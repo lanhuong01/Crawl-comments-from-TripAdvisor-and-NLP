{
 "cells": [
  {
   "cell_type": "markdown",
   "id": "2d2eb614",
   "metadata": {},
   "source": [
    "# Import data and library"
   ]
  },
  {
   "cell_type": "code",
   "execution_count": 8,
   "id": "031b1ccf",
   "metadata": {
    "scrolled": true
   },
   "outputs": [],
   "source": [
    "import pandas as pd\n",
    "import numpy as np\n",
    "import operator\n",
    "import matplotlib.pyplot as plt\n",
    "\n",
    "import nltk\n",
    "from nltk import sent_tokenize\n",
    "from nltk import word_tokenize\n",
    "\n",
    "from nltk.stem import PorterStemmer\n",
    "from nltk.stem.snowball import SnowballStemmer\n",
    "\n",
    "from nltk.stem import WordNetLemmatizer \n",
    "lemmatizer = WordNetLemmatizer()\n",
    "from textblob import TextBlob, Word\n",
    "\n",
    "import spacy\n",
    "import ast\n",
    "\n",
    "#nltk.download('omw-1.4')\n",
    "#nltk.download('wordnet')\n",
    "#nltk.download('stopwords')\n",
    "#nltk.download('punkt')\n",
    "#nltk.download('averaged_perceptron_tagger')"
   ]
  },
  {
   "cell_type": "code",
   "execution_count": 9,
   "id": "1d02da30",
   "metadata": {},
   "outputs": [],
   "source": [
    "df=pd.read_excel('Australia_Cleaned_API.xlsx')"
   ]
  },
  {
   "cell_type": "code",
   "execution_count": 10,
   "id": "a4348a9b",
   "metadata": {},
   "outputs": [
    {
     "data": {
      "text/plain": [
       "Unnamed: 0              0\n",
       "Restaurant Name         0\n",
       "Location Restaurant     0\n",
       "Number Of Reviews       0\n",
       "Rate                    0\n",
       "User Name              13\n",
       "User Location API       0\n",
       "Date Review             0\n",
       "Date Visited            0\n",
       "Score                   0\n",
       "Review Text             0\n",
       "Cuisine                 0\n",
       "dtype: int64"
      ]
     },
     "execution_count": 10,
     "metadata": {},
     "output_type": "execute_result"
    }
   ],
   "source": [
    "df.isnull().sum()"
   ]
  },
  {
   "cell_type": "code",
   "execution_count": 11,
   "id": "c37171c6",
   "metadata": {},
   "outputs": [
    {
     "data": {
      "text/plain": [
       "(37410, 12)"
      ]
     },
     "execution_count": 11,
     "metadata": {},
     "output_type": "execute_result"
    }
   ],
   "source": [
    "df.shape"
   ]
  },
  {
   "cell_type": "markdown",
   "id": "0a2f813c",
   "metadata": {},
   "source": [
    "# Punctuation Removal "
   ]
  },
  {
   "cell_type": "code",
   "execution_count": 13,
   "id": "1239b640",
   "metadata": {},
   "outputs": [
    {
     "data": {
      "text/plain": [
       "'!\"#$%&\\'()*+,-./:;<=>?@[\\\\]^_`{|}~'"
      ]
     },
     "execution_count": 13,
     "metadata": {},
     "output_type": "execute_result"
    }
   ],
   "source": [
    "#library that contains punctuation\n",
    "import string\n",
    "string.punctuation"
   ]
  },
  {
   "cell_type": "code",
   "execution_count": 14,
   "id": "e598751b",
   "metadata": {},
   "outputs": [],
   "source": [
    "def remove_punctuation(text):\n",
    "    punctuationfree=\"\".join([i for i in text if i not in string.punctuation])\n",
    "    return punctuationfree"
   ]
  },
  {
   "cell_type": "code",
   "execution_count": 15,
   "id": "3d83c20c",
   "metadata": {},
   "outputs": [],
   "source": [
    "df['clean_review']= df['Review Text'].apply(lambda x:remove_punctuation(x))\n"
   ]
  },
  {
   "cell_type": "markdown",
   "id": "81dbc3ee",
   "metadata": {},
   "source": [
    "# Lowering the text"
   ]
  },
  {
   "cell_type": "code",
   "execution_count": 17,
   "id": "eecbad8e",
   "metadata": {},
   "outputs": [],
   "source": [
    "df['review_lower']= df['clean_review'].apply(lambda x: x.lower())"
   ]
  },
  {
   "cell_type": "markdown",
   "id": "90640452",
   "metadata": {},
   "source": [
    "# Tokenization"
   ]
  },
  {
   "cell_type": "code",
   "execution_count": 19,
   "id": "21bb29c6",
   "metadata": {},
   "outputs": [],
   "source": [
    "#applying function to the column\n",
    "df['review_tokenied']= df['review_lower'].apply(lambda x: nltk.word_tokenize(x))"
   ]
  },
  {
   "cell_type": "markdown",
   "id": "e073ba0b",
   "metadata": {},
   "source": [
    "# Stop word removal"
   ]
  },
  {
   "cell_type": "code",
   "execution_count": 21,
   "id": "f1fe0132",
   "metadata": {},
   "outputs": [],
   "source": [
    "#Stop words present in the library\n",
    "stopwords = nltk.corpus.stopwords.words('english')\n",
    "stopwords[0:10]\n",
    "['i', 'me', 'my', 'myself', 'we', 'our', 'ours', 'ourselves', 'you', \"you're\"]\n",
    "\n",
    "#defining the function to remove stopwords from tokenized text\n",
    "def remove_stopwords(text):\n",
    "    output= [i for i in text if i not in stopwords]\n",
    "    return output"
   ]
  },
  {
   "cell_type": "code",
   "execution_count": 22,
   "id": "955ff2ce",
   "metadata": {},
   "outputs": [],
   "source": [
    "#applying the function\n",
    "df['review_stopwords']= df['review_tokenied'].apply(lambda x:remove_stopwords(x))"
   ]
  },
  {
   "cell_type": "markdown",
   "id": "e9626b15",
   "metadata": {},
   "source": [
    "# Stemming"
   ]
  },
  {
   "cell_type": "code",
   "execution_count": 24,
   "id": "5da22972",
   "metadata": {},
   "outputs": [],
   "source": [
    "#defining the object for stemming\n",
    "porter_stemmer = PorterStemmer()\n",
    "\n",
    "#defining a function for stemming\n",
    "def stemming(text):\n",
    "    stem_text = [porter_stemmer.stem(word) for word in text]\n",
    "    return stem_text"
   ]
  },
  {
   "cell_type": "code",
   "execution_count": 25,
   "id": "36b52412",
   "metadata": {},
   "outputs": [],
   "source": [
    "df['review_stemmed']=df['review_stopwords'].apply(lambda x: stemming(x))"
   ]
  },
  {
   "cell_type": "markdown",
   "id": "8322df46",
   "metadata": {},
   "source": [
    "# Lemmatization"
   ]
  },
  {
   "cell_type": "code",
   "execution_count": 27,
   "id": "77db0d1e",
   "metadata": {},
   "outputs": [],
   "source": [
    "#defining the object for Lemmatization\n",
    "wordnet_lemmatizer = WordNetLemmatizer()\n",
    "\n",
    "#defining the function for lemmatization\n",
    "def lemmatizer(text):\n",
    "    lemm_text = [wordnet_lemmatizer.lemmatize(word) for word in text]\n",
    "    return lemm_text"
   ]
  },
  {
   "cell_type": "code",
   "execution_count": 28,
   "id": "83cf23c5",
   "metadata": {},
   "outputs": [],
   "source": [
    "df['review_lemmatized']=df['review_stopwords'].apply(lambda x:lemmatizer(x))"
   ]
  },
  {
   "cell_type": "markdown",
   "id": "4e79043c",
   "metadata": {},
   "source": [
    "# Part of Speech Tagging (POST)"
   ]
  },
  {
   "cell_type": "markdown",
   "id": "08ba7544",
   "metadata": {},
   "source": [
    "## Spacy "
   ]
  },
  {
   "cell_type": "code",
   "execution_count": 33,
   "id": "f07c846c",
   "metadata": {},
   "outputs": [],
   "source": [
    "# Khởi tạo mô hình tiếng Anh của Spacy\n",
    "nlp = spacy.load(\"en_core_web_sm\")"
   ]
  },
  {
   "cell_type": "code",
   "execution_count": 34,
   "id": "c880643e",
   "metadata": {},
   "outputs": [
    {
     "name": "stderr",
     "output_type": "stream",
     "text": [
      "<ipython-input-34-bfe442c35f3c>:10: SettingWithCopyWarning: \n",
      "A value is trying to be set on a copy of a slice from a DataFrame\n",
      "\n",
      "See the caveats in the documentation: https://pandas.pydata.org/pandas-docs/stable/user_guide/indexing.html#returning-a-view-versus-a-copy\n",
      "  lemmatized_list[i] = ' '.join(lemmatized_list[i])\n"
     ]
    }
   ],
   "source": [
    "# Một danh sách các từ đã được xử lý bằng phương pháp Lemmatization\n",
    "lemmatized_list = df['review_lemmatized']\n",
    "\n",
    "# Chuyển danh sách thành một chuỗi văn bản\n",
    "#doc = nlp(\" \".join(lemmatized_list))\n",
    "#my_string = ''.join(str(x) for x in my_list if isinstance(x, str))\n",
    "#my_string = ''.join(str(x) for x in lemmatized_list if isinstance(x, str))\n",
    "for i in range(len(lemmatized_list)):\n",
    "    if isinstance(lemmatized_list[i], list):\n",
    "        lemmatized_list[i] = ' '.join(lemmatized_list[i])\n",
    "\n",
    "my_string = ' '.join(lemmatized_list)"
   ]
  },
  {
   "cell_type": "code",
   "execution_count": 36,
   "id": "c3c448f9",
   "metadata": {},
   "outputs": [],
   "source": [
    "# Tạo một danh sách chứa kết quả phân loại từng dòng\n",
    "nn_list = []\n",
    "\n",
    "# Duyệt qua từng dòng trong dataframe\n",
    "for index, row in df.iterrows():\n",
    "    # Chuyển đổi nội dung dòng thành đối tượng Doc của Spacy\n",
    "    doc = nlp(row['review_lemmatized'])\n",
    "    # Tạo một danh sách chứa các từ danh từ\n",
    "    word_nn = [token.text for token in doc if token.pos_ in ['NOUN', 'PROPN']]\n",
    "    # Lưu danh sách danh từ của dòng này vào danh sách chung\n",
    "    nn_list.append(word_nn)\n",
    "\n",
    "# Tạo một cột mới trong dataframe chứa danh sách các từ danh từ\n",
    "df['NN'] = nn_list"
   ]
  },
  {
   "cell_type": "markdown",
   "id": "e2ee3d30",
   "metadata": {},
   "source": [
    "# Create Dish from NN "
   ]
  },
  {
   "cell_type": "code",
   "execution_count": 38,
   "id": "7aa7be02",
   "metadata": {},
   "outputs": [],
   "source": [
    "# Tính số lượng bài đánh giá chứa mỗi danh từ\n",
    "nouns_count = {}\n",
    "for nn in nn_list:\n",
    "    for noun in nn:\n",
    "        if noun in nouns_count:\n",
    "            nouns_count[noun] += 1\n",
    "        else:\n",
    "            nouns_count[noun] = 1\n",
    "\n",
    "# Tính giá trị hỗ trợ của mỗi danh từ\n",
    "total_reviews = len(df)\n",
    "threshold = 0.03\n",
    "frequent_nouns = []\n",
    "for noun, count in nouns_count.items():\n",
    "    support = count / total_reviews\n",
    "    if support >= threshold:\n",
    "        frequent_nouns.append(noun)\n"
   ]
  },
  {
   "cell_type": "code",
   "execution_count": 39,
   "id": "6ced84c9",
   "metadata": {
    "scrolled": true
   },
   "outputs": [],
   "source": [
    "# nouns_count"
   ]
  },
  {
   "cell_type": "code",
   "execution_count": 40,
   "id": "c95579e9",
   "metadata": {
    "scrolled": false
   },
   "outputs": [
    {
     "data": {
      "text/plain": [
       "42948"
      ]
     },
     "execution_count": 40,
     "metadata": {},
     "output_type": "execute_result"
    }
   ],
   "source": [
    "len(nouns_count)"
   ]
  },
  {
   "cell_type": "code",
   "execution_count": 41,
   "id": "285694c6",
   "metadata": {
    "scrolled": true
   },
   "outputs": [
    {
     "data": {
      "text/plain": [
       "132"
      ]
     },
     "execution_count": 41,
     "metadata": {},
     "output_type": "execute_result"
    }
   ],
   "source": [
    "len(frequent_nouns)"
   ]
  },
  {
   "cell_type": "code",
   "execution_count": 42,
   "id": "b340fb2c",
   "metadata": {
    "scrolled": true
   },
   "outputs": [],
   "source": [
    "# frequent_nouns"
   ]
  },
  {
   "cell_type": "code",
   "execution_count": 43,
   "id": "c464e23b",
   "metadata": {},
   "outputs": [],
   "source": [
    "list_dish=['chicken', 'pork', 'wine', 'prawn', 'beef', 'sauce', 'dessert', 'beer', 'meat', 'egg', \n",
    "           'fish', 'coffee', 'bread', 'seafood', 'lamb', 'steak', 'pizza', 'curry', 'duck', 'cocktail', \n",
    "           'salad', 'tea', 'cheese', 'pasta', 'salmon', 'burger', 'rice', 'oyster', 'chip', 'sushi']"
   ]
  },
  {
   "cell_type": "code",
   "execution_count": 44,
   "id": "30daf689",
   "metadata": {},
   "outputs": [],
   "source": [
    "def find_keywords(text):\n",
    "    keywords = []\n",
    "    words = text\n",
    "    for w in words:\n",
    "        if w in list_dish:\n",
    "            keywords.append(w)\n",
    "    return ', '.join(keywords)\n",
    "\n",
    "df['Key_Dish'] = df['NN'].apply(find_keywords)"
   ]
  },
  {
   "cell_type": "code",
   "execution_count": 45,
   "id": "ed0df4d9",
   "metadata": {},
   "outputs": [],
   "source": [
    "def remove_duplicates(s):\n",
    "    words = s.split(', ')\n",
    "    unique_words = set(words)\n",
    "    result = ' '.join(unique_words)\n",
    "    return result\n",
    "\n",
    "# Áp dụng hàm cho cột 'Cuisine'\n",
    "df['Key_Dish'] = df['Key_Dish'].apply(remove_duplicates)"
   ]
  },
  {
   "cell_type": "code",
   "execution_count": 46,
   "id": "c699de33",
   "metadata": {},
   "outputs": [],
   "source": [
    "df['Key_Dish']= df['Key_Dish'].apply(lambda x: nltk.word_tokenize(x))"
   ]
  },
  {
   "cell_type": "code",
   "execution_count": 47,
   "id": "e2d3d55e",
   "metadata": {},
   "outputs": [
    {
     "data": {
      "text/plain": [
       "1678"
      ]
     },
     "execution_count": 47,
     "metadata": {},
     "output_type": "execute_result"
    }
   ],
   "source": [
    "len(df['Restaurant Name'].unique())"
   ]
  },
  {
   "cell_type": "code",
   "execution_count": 48,
   "id": "6e43c54c",
   "metadata": {},
   "outputs": [],
   "source": [
    "# df = df.drop({'Unnamed: 0','clean_review','review_lower','review_tokenied','review_stopwords','review_stemmed','review_lemmatized'}, axis=1)"
   ]
  },
  {
   "cell_type": "code",
   "execution_count": 49,
   "id": "938c8b35",
   "metadata": {},
   "outputs": [
    {
     "data": {
      "text/plain": [
       "['pizza']"
      ]
     },
     "execution_count": 49,
     "metadata": {},
     "output_type": "execute_result"
    }
   ],
   "source": [
    "df['Key_Dish'][1]"
   ]
  },
  {
   "cell_type": "markdown",
   "id": "47a4e5e8",
   "metadata": {},
   "source": [
    "# Create Meal"
   ]
  },
  {
   "cell_type": "markdown",
   "id": "d54aedf8",
   "metadata": {},
   "source": [
    "#### <font color='blue violet'>Breakfast</font>"
   ]
  },
  {
   "cell_type": "code",
   "execution_count": 51,
   "id": "891c7dc6",
   "metadata": {},
   "outputs": [],
   "source": [
    "breakfast=['breakfast']\n",
    "lunch=['lunch']\n",
    "dinner=[ 'dinner', 'night', 'dinning']"
   ]
  },
  {
   "cell_type": "code",
   "execution_count": 52,
   "id": "0312b74d",
   "metadata": {},
   "outputs": [],
   "source": [
    "def find_keywords(text):\n",
    "    keywords = []\n",
    "    words = text\n",
    "    for w in words:\n",
    "        if w in breakfast:\n",
    "            keywords.append('Breakfast')\n",
    "        if w in lunch:\n",
    "            keywords.append('Lunch')\n",
    "        if w in dinner:\n",
    "            keywords.append('Dinner')\n",
    "    return ', '.join(keywords)\n",
    "\n",
    "df['Meal'] = df['NN'].apply(find_keywords)"
   ]
  },
  {
   "cell_type": "code",
   "execution_count": 53,
   "id": "c344c883",
   "metadata": {},
   "outputs": [],
   "source": [
    "df['Meal'] = df['Meal'].apply(remove_duplicates)"
   ]
  },
  {
   "cell_type": "code",
   "execution_count": 54,
   "id": "37dff576",
   "metadata": {},
   "outputs": [],
   "source": [
    "df['Meal']= df['Meal'].apply(lambda x: nltk.word_tokenize(x))"
   ]
  },
  {
   "cell_type": "code",
   "execution_count": 55,
   "id": "ed237b11",
   "metadata": {},
   "outputs": [],
   "source": [
    "# df['Meal'] = df['Meal'].apply(lambda x: '|'.join(x))\n",
    "# df = df.join(df['Meal'].str.get_dummies())"
   ]
  },
  {
   "cell_type": "markdown",
   "id": "0c3bad77",
   "metadata": {},
   "source": [
    "# Create Feature"
   ]
  },
  {
   "cell_type": "code",
   "execution_count": 56,
   "id": "13624107",
   "metadata": {},
   "outputs": [],
   "source": [
    "service=['service', 'staff', 'waiter', 'waitress', 'chef', 'view']\n",
    "atmosphere=['atmosphere', 'ambience']\n",
    "price=['price', 'value']\n",
    "location=['place', 'location', 'spot']"
   ]
  },
  {
   "cell_type": "code",
   "execution_count": 57,
   "id": "6e951322",
   "metadata": {},
   "outputs": [],
   "source": [
    "def find_keywords(text):\n",
    "    keywords = []\n",
    "    words = text\n",
    "    for w in words:\n",
    "        if w in service:\n",
    "            keywords.append('Service')\n",
    "        if w in atmosphere:\n",
    "            keywords.append('Atmosphere')\n",
    "        if w in price:\n",
    "            keywords.append('Price')\n",
    "        if w in location:\n",
    "            keywords.append('Location')\n",
    "    return ', '.join(keywords)\n",
    "\n",
    "df['Feature'] = df['NN'].apply(find_keywords)"
   ]
  },
  {
   "cell_type": "code",
   "execution_count": 58,
   "id": "da1ef5af",
   "metadata": {},
   "outputs": [],
   "source": [
    "df['Feature'] = df['Feature'].apply(remove_duplicates)"
   ]
  },
  {
   "cell_type": "code",
   "execution_count": 59,
   "id": "6dd663d9",
   "metadata": {},
   "outputs": [],
   "source": [
    "df['Feature']= df['Feature'].apply(lambda x: nltk.word_tokenize(x))"
   ]
  },
  {
   "cell_type": "code",
   "execution_count": 60,
   "id": "2a21d626",
   "metadata": {},
   "outputs": [],
   "source": [
    "# df['Feature'] = df['Feature'].apply(lambda x: '|'.join(x))\n",
    "# df = df.join(df['Feature'].str.get_dummies())"
   ]
  },
  {
   "cell_type": "code",
   "execution_count": 75,
   "id": "707ab7a5",
   "metadata": {},
   "outputs": [],
   "source": [
    "df.rename(columns = {'User Location API ':'User Location', 'Key_Dish':'Dish'}, inplace = True)"
   ]
  },
  {
   "cell_type": "code",
   "execution_count": 76,
   "id": "09a86178",
   "metadata": {},
   "outputs": [
    {
     "data": {
      "text/html": [
       "<div>\n",
       "<style scoped>\n",
       "    .dataframe tbody tr th:only-of-type {\n",
       "        vertical-align: middle;\n",
       "    }\n",
       "\n",
       "    .dataframe tbody tr th {\n",
       "        vertical-align: top;\n",
       "    }\n",
       "\n",
       "    .dataframe thead th {\n",
       "        text-align: right;\n",
       "    }\n",
       "</style>\n",
       "<table border=\"1\" class=\"dataframe\">\n",
       "  <thead>\n",
       "    <tr style=\"text-align: right;\">\n",
       "      <th></th>\n",
       "      <th>Restaurant Name</th>\n",
       "      <th>Location Restaurant</th>\n",
       "      <th>Number Of Reviews</th>\n",
       "      <th>Rate</th>\n",
       "      <th>User Name</th>\n",
       "      <th>User Location</th>\n",
       "      <th>Date Review</th>\n",
       "      <th>Date Visited</th>\n",
       "      <th>Score</th>\n",
       "      <th>Review Text</th>\n",
       "      <th>Cuisine</th>\n",
       "      <th>NN</th>\n",
       "      <th>Dish</th>\n",
       "      <th>Meal</th>\n",
       "      <th>Feature</th>\n",
       "      <th>Region</th>\n",
       "    </tr>\n",
       "  </thead>\n",
       "  <tbody>\n",
       "    <tr>\n",
       "      <th>0</th>\n",
       "      <td>Bella Tiarnie Italian Restaurant &amp; Gourmet Pizzas</td>\n",
       "      <td>Brisbane</td>\n",
       "      <td>425</td>\n",
       "      <td>36</td>\n",
       "      <td>Mike_Skidmore</td>\n",
       "      <td>United Kingdom</td>\n",
       "      <td>2022-10-07</td>\n",
       "      <td>2022-10</td>\n",
       "      <td>30</td>\n",
       "      <td>Service a little lack-lustre. One very new mem...</td>\n",
       "      <td>Italian, Pizza</td>\n",
       "      <td>[service, member, staff, training, problem, is...</td>\n",
       "      <td>[pasta, seafood]</td>\n",
       "      <td>[]</td>\n",
       "      <td>[Service]</td>\n",
       "      <td>Europe</td>\n",
       "    </tr>\n",
       "    <tr>\n",
       "      <th>1</th>\n",
       "      <td>Bella Tiarnie Italian Restaurant &amp; Gourmet Pizzas</td>\n",
       "      <td>Brisbane</td>\n",
       "      <td>425</td>\n",
       "      <td>36</td>\n",
       "      <td>AllanJGJ</td>\n",
       "      <td>New Zealand</td>\n",
       "      <td>2022-07-28</td>\n",
       "      <td>2022-07</td>\n",
       "      <td>20</td>\n",
       "      <td>We were only after a pizza and some chianti bu...</td>\n",
       "      <td>Italian, Pizza</td>\n",
       "      <td>[pizza, chianti, hour, pizza, arrive, place, h...</td>\n",
       "      <td>[pizza]</td>\n",
       "      <td>[Dinner]</td>\n",
       "      <td>[Location, Service]</td>\n",
       "      <td>Oceania</td>\n",
       "    </tr>\n",
       "    <tr>\n",
       "      <th>2</th>\n",
       "      <td>La Luna Bistro</td>\n",
       "      <td>Melbourne</td>\n",
       "      <td>380</td>\n",
       "      <td>39</td>\n",
       "      <td>Jane C</td>\n",
       "      <td>United Kingdom</td>\n",
       "      <td>2023-01-19</td>\n",
       "      <td>2022-11</td>\n",
       "      <td>50</td>\n",
       "      <td>We came here after happening upon their sister...</td>\n",
       "      <td>Australian, European, Steakhouse</td>\n",
       "      <td>[sister, bar, le, bouvier, fantastic, service,...</td>\n",
       "      <td>[]</td>\n",
       "      <td>[]</td>\n",
       "      <td>[Atmosphere, Service]</td>\n",
       "      <td>Europe</td>\n",
       "    </tr>\n",
       "    <tr>\n",
       "      <th>3</th>\n",
       "      <td>La Luna Bistro</td>\n",
       "      <td>Melbourne</td>\n",
       "      <td>380</td>\n",
       "      <td>39</td>\n",
       "      <td>sammytaylor458</td>\n",
       "      <td>United Kingdom</td>\n",
       "      <td>2021-12-23</td>\n",
       "      <td>2021-12</td>\n",
       "      <td>40</td>\n",
       "      <td>Delicious food. If you are a meat eater, then ...</td>\n",
       "      <td>Australian, European, Steakhouse</td>\n",
       "      <td>[food, meat, eater, place, suit, ground, corka...</td>\n",
       "      <td>[meat]</td>\n",
       "      <td>[]</td>\n",
       "      <td>[Location]</td>\n",
       "      <td>Europe</td>\n",
       "    </tr>\n",
       "    <tr>\n",
       "      <th>4</th>\n",
       "      <td>Red Lantern Restaurant &amp; Private Dining Room</td>\n",
       "      <td>Sydney</td>\n",
       "      <td>615</td>\n",
       "      <td>33</td>\n",
       "      <td>faridap2013</td>\n",
       "      <td>United Kingdom</td>\n",
       "      <td>2020-04-07</td>\n",
       "      <td>2020-02</td>\n",
       "      <td>50</td>\n",
       "      <td>Meeting up with our son and partner after over...</td>\n",
       "      <td>Asian, Vietnamese, Contemporary</td>\n",
       "      <td>[son, partner, year, celebrate, disappoint, me...</td>\n",
       "      <td>[]</td>\n",
       "      <td>[Dinner]</td>\n",
       "      <td>[Service]</td>\n",
       "      <td>Europe</td>\n",
       "    </tr>\n",
       "    <tr>\n",
       "      <th>...</th>\n",
       "      <td>...</td>\n",
       "      <td>...</td>\n",
       "      <td>...</td>\n",
       "      <td>...</td>\n",
       "      <td>...</td>\n",
       "      <td>...</td>\n",
       "      <td>...</td>\n",
       "      <td>...</td>\n",
       "      <td>...</td>\n",
       "      <td>...</td>\n",
       "      <td>...</td>\n",
       "      <td>...</td>\n",
       "      <td>...</td>\n",
       "      <td>...</td>\n",
       "      <td>...</td>\n",
       "      <td>...</td>\n",
       "    </tr>\n",
       "    <tr>\n",
       "      <th>37405</th>\n",
       "      <td>Black Bar &amp; Grill</td>\n",
       "      <td>Sydney</td>\n",
       "      <td>769</td>\n",
       "      <td>23</td>\n",
       "      <td>rmgmainridge</td>\n",
       "      <td>Thailand</td>\n",
       "      <td>2013-03-14</td>\n",
       "      <td>2013-01</td>\n",
       "      <td>50</td>\n",
       "      <td>Have been to Ezards restaurants in Melbourne m...</td>\n",
       "      <td>Australian, Steakhouse, Grill, Contemporary</td>\n",
       "      <td>[restaurant, melbourne, time, format, trip, sy...</td>\n",
       "      <td>[]</td>\n",
       "      <td>[]</td>\n",
       "      <td>[Service]</td>\n",
       "      <td>Asia</td>\n",
       "    </tr>\n",
       "    <tr>\n",
       "      <th>37406</th>\n",
       "      <td>Black Bar &amp; Grill</td>\n",
       "      <td>Sydney</td>\n",
       "      <td>769</td>\n",
       "      <td>23</td>\n",
       "      <td>Adam S</td>\n",
       "      <td>New Zealand</td>\n",
       "      <td>2012-11-18</td>\n",
       "      <td>2012-11</td>\n",
       "      <td>50</td>\n",
       "      <td>If you are after something special, and you ha...</td>\n",
       "      <td>Australian, Steakhouse, Grill, Contemporary</td>\n",
       "      <td>[fund, dining, ezard, consideringthe, service,...</td>\n",
       "      <td>[cheese, tea, steak, dessert]</td>\n",
       "      <td>[]</td>\n",
       "      <td>[Service]</td>\n",
       "      <td>Oceania</td>\n",
       "    </tr>\n",
       "    <tr>\n",
       "      <th>37407</th>\n",
       "      <td>Black Bar &amp; Grill</td>\n",
       "      <td>Sydney</td>\n",
       "      <td>769</td>\n",
       "      <td>23</td>\n",
       "      <td>BryonyFrancesca</td>\n",
       "      <td>New Zealand</td>\n",
       "      <td>2012-09-08</td>\n",
       "      <td>2012-08</td>\n",
       "      <td>50</td>\n",
       "      <td>I had the pleasure of dining at this particula...</td>\n",
       "      <td>Australian, Steakhouse, Grill, Contemporary</td>\n",
       "      <td>[pleasure, place, work, function, table, peopl...</td>\n",
       "      <td>[meat, egg, prawn, steak]</td>\n",
       "      <td>[Dinner]</td>\n",
       "      <td>[Location, Service]</td>\n",
       "      <td>Oceania</td>\n",
       "    </tr>\n",
       "    <tr>\n",
       "      <th>37408</th>\n",
       "      <td>Black Bar &amp; Grill</td>\n",
       "      <td>Sydney</td>\n",
       "      <td>769</td>\n",
       "      <td>23</td>\n",
       "      <td>happy12054</td>\n",
       "      <td>United States</td>\n",
       "      <td>2012-07-08</td>\n",
       "      <td>2012-07</td>\n",
       "      <td>50</td>\n",
       "      <td>We happened on this restaurant after seeing a ...</td>\n",
       "      <td>Australian, Steakhouse, Grill, Contemporary</td>\n",
       "      <td>[restaurant, theater, reservation, staff, othe...</td>\n",
       "      <td>[bread, steak]</td>\n",
       "      <td>[Dinner]</td>\n",
       "      <td>[Service]</td>\n",
       "      <td>North America</td>\n",
       "    </tr>\n",
       "    <tr>\n",
       "      <th>37409</th>\n",
       "      <td>Black Bar &amp; Grill</td>\n",
       "      <td>Sydney</td>\n",
       "      <td>769</td>\n",
       "      <td>23</td>\n",
       "      <td>Donna M</td>\n",
       "      <td>Hong Kong</td>\n",
       "      <td>2012-03-31</td>\n",
       "      <td>2012-03</td>\n",
       "      <td>40</td>\n",
       "      <td>A large and luxurious room made quiet and inti...</td>\n",
       "      <td>Australian, Steakhouse, Grill, Contemporary</td>\n",
       "      <td>[room, fitout, marries, banquette, seating, op...</td>\n",
       "      <td>[wine]</td>\n",
       "      <td>[]</td>\n",
       "      <td>[Price, Service]</td>\n",
       "      <td>Asia</td>\n",
       "    </tr>\n",
       "  </tbody>\n",
       "</table>\n",
       "<p>37410 rows × 16 columns</p>\n",
       "</div>"
      ],
      "text/plain": [
       "                                         Restaurant Name Location Restaurant  \\\n",
       "0      Bella Tiarnie Italian Restaurant & Gourmet Pizzas            Brisbane   \n",
       "1      Bella Tiarnie Italian Restaurant & Gourmet Pizzas            Brisbane   \n",
       "2                                         La Luna Bistro           Melbourne   \n",
       "3                                         La Luna Bistro           Melbourne   \n",
       "4           Red Lantern Restaurant & Private Dining Room              Sydney   \n",
       "...                                                  ...                 ...   \n",
       "37405                                  Black Bar & Grill              Sydney   \n",
       "37406                                  Black Bar & Grill              Sydney   \n",
       "37407                                  Black Bar & Grill              Sydney   \n",
       "37408                                  Black Bar & Grill              Sydney   \n",
       "37409                                  Black Bar & Grill              Sydney   \n",
       "\n",
       "       Number Of Reviews  Rate        User Name   User Location Date Review  \\\n",
       "0                    425    36    Mike_Skidmore  United Kingdom  2022-10-07   \n",
       "1                    425    36         AllanJGJ     New Zealand  2022-07-28   \n",
       "2                    380    39           Jane C  United Kingdom  2023-01-19   \n",
       "3                    380    39   sammytaylor458  United Kingdom  2021-12-23   \n",
       "4                    615    33      faridap2013  United Kingdom  2020-04-07   \n",
       "...                  ...   ...              ...             ...         ...   \n",
       "37405                769    23     rmgmainridge        Thailand  2013-03-14   \n",
       "37406                769    23           Adam S     New Zealand  2012-11-18   \n",
       "37407                769    23  BryonyFrancesca     New Zealand  2012-09-08   \n",
       "37408                769    23       happy12054   United States  2012-07-08   \n",
       "37409                769    23          Donna M       Hong Kong  2012-03-31   \n",
       "\n",
       "      Date Visited  Score                                        Review Text  \\\n",
       "0          2022-10     30  Service a little lack-lustre. One very new mem...   \n",
       "1          2022-07     20  We were only after a pizza and some chianti bu...   \n",
       "2          2022-11     50  We came here after happening upon their sister...   \n",
       "3          2021-12     40  Delicious food. If you are a meat eater, then ...   \n",
       "4          2020-02     50  Meeting up with our son and partner after over...   \n",
       "...            ...    ...                                                ...   \n",
       "37405      2013-01     50  Have been to Ezards restaurants in Melbourne m...   \n",
       "37406      2012-11     50  If you are after something special, and you ha...   \n",
       "37407      2012-08     50  I had the pleasure of dining at this particula...   \n",
       "37408      2012-07     50  We happened on this restaurant after seeing a ...   \n",
       "37409      2012-03     40  A large and luxurious room made quiet and inti...   \n",
       "\n",
       "                                           Cuisine  \\\n",
       "0                                   Italian, Pizza   \n",
       "1                                   Italian, Pizza   \n",
       "2                 Australian, European, Steakhouse   \n",
       "3                 Australian, European, Steakhouse   \n",
       "4                  Asian, Vietnamese, Contemporary   \n",
       "...                                            ...   \n",
       "37405  Australian, Steakhouse, Grill, Contemporary   \n",
       "37406  Australian, Steakhouse, Grill, Contemporary   \n",
       "37407  Australian, Steakhouse, Grill, Contemporary   \n",
       "37408  Australian, Steakhouse, Grill, Contemporary   \n",
       "37409  Australian, Steakhouse, Grill, Contemporary   \n",
       "\n",
       "                                                      NN  \\\n",
       "0      [service, member, staff, training, problem, is...   \n",
       "1      [pizza, chianti, hour, pizza, arrive, place, h...   \n",
       "2      [sister, bar, le, bouvier, fantastic, service,...   \n",
       "3      [food, meat, eater, place, suit, ground, corka...   \n",
       "4      [son, partner, year, celebrate, disappoint, me...   \n",
       "...                                                  ...   \n",
       "37405  [restaurant, melbourne, time, format, trip, sy...   \n",
       "37406  [fund, dining, ezard, consideringthe, service,...   \n",
       "37407  [pleasure, place, work, function, table, peopl...   \n",
       "37408  [restaurant, theater, reservation, staff, othe...   \n",
       "37409  [room, fitout, marries, banquette, seating, op...   \n",
       "\n",
       "                                Dish      Meal                Feature  \\\n",
       "0                   [pasta, seafood]        []              [Service]   \n",
       "1                            [pizza]  [Dinner]    [Location, Service]   \n",
       "2                                 []        []  [Atmosphere, Service]   \n",
       "3                             [meat]        []             [Location]   \n",
       "4                                 []  [Dinner]              [Service]   \n",
       "...                              ...       ...                    ...   \n",
       "37405                             []        []              [Service]   \n",
       "37406  [cheese, tea, steak, dessert]        []              [Service]   \n",
       "37407      [meat, egg, prawn, steak]  [Dinner]    [Location, Service]   \n",
       "37408                 [bread, steak]  [Dinner]              [Service]   \n",
       "37409                         [wine]        []       [Price, Service]   \n",
       "\n",
       "              Region  \n",
       "0             Europe  \n",
       "1            Oceania  \n",
       "2             Europe  \n",
       "3             Europe  \n",
       "4             Europe  \n",
       "...              ...  \n",
       "37405           Asia  \n",
       "37406        Oceania  \n",
       "37407        Oceania  \n",
       "37408  North America  \n",
       "37409           Asia  \n",
       "\n",
       "[37410 rows x 16 columns]"
      ]
     },
     "execution_count": 76,
     "metadata": {},
     "output_type": "execute_result"
    }
   ],
   "source": [
    "df"
   ]
  },
  {
   "cell_type": "code",
   "execution_count": 77,
   "id": "0084b767",
   "metadata": {},
   "outputs": [],
   "source": [
    "# df.to_excel('Australia_finallllll.xlsx')"
   ]
  }
 ],
 "metadata": {
  "kernelspec": {
   "display_name": "Python 3",
   "language": "python",
   "name": "python3"
  },
  "language_info": {
   "codemirror_mode": {
    "name": "ipython",
    "version": 3
   },
   "file_extension": ".py",
   "mimetype": "text/x-python",
   "name": "python",
   "nbconvert_exporter": "python",
   "pygments_lexer": "ipython3",
   "version": "3.8.2"
  }
 },
 "nbformat": 4,
 "nbformat_minor": 5
}
