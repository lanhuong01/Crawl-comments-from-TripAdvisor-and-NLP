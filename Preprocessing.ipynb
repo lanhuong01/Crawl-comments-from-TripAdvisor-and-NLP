{
 "cells": [
  {
   "cell_type": "code",
   "execution_count": 1,
   "id": "c2cf2cd3",
   "metadata": {},
   "outputs": [
    {
     "data": {
      "text/plain": [
       "'!\"#$%&\\'()*+,-./:;<=>?@[\\\\]^_`{|}~'"
      ]
     },
     "execution_count": 1,
     "metadata": {},
     "output_type": "execute_result"
    }
   ],
   "source": [
    "import pandas as pd\n",
    "from datetime import datetime\n",
    "\n",
    "import nltk\n",
    "from nltk import word_tokenize\n",
    "import string\n",
    "string.punctuation"
   ]
  },
  {
   "cell_type": "code",
   "execution_count": 2,
   "id": "fa444233",
   "metadata": {},
   "outputs": [],
   "source": [
    "df1=pd.read_excel('Australia.xlsx',sheet_name=0)"
   ]
  },
  {
   "cell_type": "code",
   "execution_count": 3,
   "id": "4b0b3400",
   "metadata": {},
   "outputs": [
    {
     "data": {
      "text/plain": [
       "(114700, 12)"
      ]
     },
     "execution_count": 3,
     "metadata": {},
     "output_type": "execute_result"
    }
   ],
   "source": [
    "df1.shape"
   ]
  },
  {
   "cell_type": "code",
   "execution_count": 4,
   "id": "d62b7fa7",
   "metadata": {},
   "outputs": [],
   "source": [
    "df2=pd.read_excel('Australia.xlsx',sheet_name=1)"
   ]
  },
  {
   "cell_type": "code",
   "execution_count": 5,
   "id": "7de52c4c",
   "metadata": {},
   "outputs": [
    {
     "data": {
      "text/plain": [
       "(102226, 12)"
      ]
     },
     "execution_count": 5,
     "metadata": {},
     "output_type": "execute_result"
    }
   ],
   "source": [
    "df2.shape"
   ]
  },
  {
   "cell_type": "code",
   "execution_count": 6,
   "id": "65cec421",
   "metadata": {},
   "outputs": [],
   "source": [
    "df3=pd.read_excel('Australia.xlsx',sheet_name=2)"
   ]
  },
  {
   "cell_type": "code",
   "execution_count": 7,
   "id": "a5765682",
   "metadata": {},
   "outputs": [
    {
     "data": {
      "text/plain": [
       "(71836, 12)"
      ]
     },
     "execution_count": 7,
     "metadata": {},
     "output_type": "execute_result"
    }
   ],
   "source": [
    "df3.shape"
   ]
  },
  {
   "cell_type": "code",
   "execution_count": 8,
   "id": "8aa90487",
   "metadata": {},
   "outputs": [],
   "source": [
    "df= pd.concat([df1, df2,df3])"
   ]
  },
  {
   "cell_type": "code",
   "execution_count": 9,
   "id": "19a27ee7",
   "metadata": {},
   "outputs": [],
   "source": [
    "# df.to_excel('Australia_gr.xlsx')"
   ]
  },
  {
   "cell_type": "code",
   "execution_count": 9,
   "id": "6218d246",
   "metadata": {},
   "outputs": [
    {
     "data": {
      "text/plain": [
       "(288762, 12)"
      ]
     },
     "execution_count": 9,
     "metadata": {},
     "output_type": "execute_result"
    }
   ],
   "source": [
    "df.shape"
   ]
  },
  {
   "cell_type": "code",
   "execution_count": 11,
   "id": "146c7bf3",
   "metadata": {},
   "outputs": [
    {
     "data": {
      "text/plain": [
       "(288762, 12)"
      ]
     },
     "execution_count": 11,
     "metadata": {},
     "output_type": "execute_result"
    }
   ],
   "source": [
    "df.shape"
   ]
  },
  {
   "cell_type": "code",
   "execution_count": 12,
   "id": "480541b7",
   "metadata": {},
   "outputs": [
    {
     "data": {
      "text/plain": [
       "0"
      ]
     },
     "execution_count": 12,
     "metadata": {},
     "output_type": "execute_result"
    }
   ],
   "source": [
    "df.duplicated().sum()"
   ]
  },
  {
   "cell_type": "code",
   "execution_count": 13,
   "id": "07813072",
   "metadata": {},
   "outputs": [],
   "source": [
    "df = df.drop_duplicates()"
   ]
  },
  {
   "cell_type": "code",
   "execution_count": 14,
   "id": "9e627def",
   "metadata": {},
   "outputs": [
    {
     "data": {
      "text/plain": [
       "(288762, 12)"
      ]
     },
     "execution_count": 14,
     "metadata": {},
     "output_type": "execute_result"
    }
   ],
   "source": [
    "df.shape"
   ]
  },
  {
   "cell_type": "code",
   "execution_count": 15,
   "id": "a806bec5",
   "metadata": {},
   "outputs": [],
   "source": [
    "df.dropna(subset=['User Location'], inplace=True)"
   ]
  },
  {
   "cell_type": "code",
   "execution_count": 16,
   "id": "f46b0d83",
   "metadata": {},
   "outputs": [],
   "source": [
    "df.dropna(subset=['Review Text'], inplace=True)"
   ]
  },
  {
   "cell_type": "code",
   "execution_count": 17,
   "id": "3741e1a4",
   "metadata": {},
   "outputs": [
    {
     "data": {
      "text/plain": [
       "(166815, 12)"
      ]
     },
     "execution_count": 17,
     "metadata": {},
     "output_type": "execute_result"
    }
   ],
   "source": [
    "df.shape"
   ]
  },
  {
   "cell_type": "code",
   "execution_count": 18,
   "id": "26f938c3",
   "metadata": {},
   "outputs": [],
   "source": [
    "df['User Location']= df['User Location'].apply(lambda x: x.lower())"
   ]
  },
  {
   "cell_type": "code",
   "execution_count": 19,
   "id": "de838fa4",
   "metadata": {},
   "outputs": [],
   "source": [
    "df = df.loc[~df['User Location'].str.contains('australia|sydney|brisbane|canberra|perth|adelaide|gold coast|cairns|canberra')]"
   ]
  },
  {
   "cell_type": "code",
   "execution_count": 20,
   "id": "6b4c9751",
   "metadata": {},
   "outputs": [
    {
     "data": {
      "text/plain": [
       "(41265, 12)"
      ]
     },
     "execution_count": 20,
     "metadata": {},
     "output_type": "execute_result"
    }
   ],
   "source": [
    "df.shape"
   ]
  },
  {
   "cell_type": "code",
   "execution_count": 22,
   "id": "795dc69a",
   "metadata": {},
   "outputs": [
    {
     "data": {
      "text/plain": [
       "0"
      ]
     },
     "execution_count": 22,
     "metadata": {},
     "output_type": "execute_result"
    }
   ],
   "source": [
    "df['Review Text'].str.endswith('More').sum()"
   ]
  },
  {
   "cell_type": "code",
   "execution_count": 23,
   "id": "37db62ff",
   "metadata": {},
   "outputs": [
    {
     "data": {
      "text/plain": [
       "Unnamed: 0                0\n",
       "Restaurant Name           0\n",
       "Location Restaurant       0\n",
       "Number Of Reviews         0\n",
       "Rate                      0\n",
       "C                         0\n",
       "User Name                21\n",
       "User Location             0\n",
       "Date Review               0\n",
       "Date Visited           1834\n",
       "Score                     0\n",
       "Review Text               0\n",
       "dtype: int64"
      ]
     },
     "execution_count": 23,
     "metadata": {},
     "output_type": "execute_result"
    }
   ],
   "source": [
    "df.isnull().sum()"
   ]
  },
  {
   "cell_type": "code",
   "execution_count": 24,
   "id": "ffc7cf33",
   "metadata": {},
   "outputs": [
    {
     "data": {
      "text/plain": [
       "Unnamed: 0              int64\n",
       "Restaurant Name        object\n",
       "Location Restaurant    object\n",
       "Number Of Reviews      object\n",
       "Rate                   object\n",
       "C                      object\n",
       "User Name              object\n",
       "User Location          object\n",
       "Date Review            object\n",
       "Date Visited           object\n",
       "Score                   int64\n",
       "Review Text            object\n",
       "dtype: object"
      ]
     },
     "execution_count": 24,
     "metadata": {},
     "output_type": "execute_result"
    }
   ],
   "source": [
    "df.dtypes"
   ]
  },
  {
   "cell_type": "code",
   "execution_count": 25,
   "id": "aaeccf9c",
   "metadata": {},
   "outputs": [],
   "source": [
    "def remove_punctuation(text):\n",
    "    punctuationfree=\"\".join([i for i in text if i not in string.punctuation])\n",
    "    return punctuationfree"
   ]
  },
  {
   "cell_type": "code",
   "execution_count": 26,
   "id": "f4213383",
   "metadata": {},
   "outputs": [],
   "source": [
    "df['C']= df['C'].apply(lambda x:remove_punctuation(x))"
   ]
  },
  {
   "cell_type": "code",
   "execution_count": 27,
   "id": "55a59f0b",
   "metadata": {},
   "outputs": [],
   "source": [
    "df['C']= df['C'].apply(lambda x: nltk.word_tokenize(x))"
   ]
  },
  {
   "cell_type": "code",
   "execution_count": 28,
   "id": "3e2124f1",
   "metadata": {},
   "outputs": [],
   "source": [
    "Cuisine_all=['Afghan','African','American','Apulian','Arabic','Argentinean','Armenian','Asian','Assyrian','Australian','Austrian',\n",
    "             'Balti','Bangladeshi','Bar','Barbecue','Basque','Beer restaurants','Beijing cuisine','Belgian','Brazilian','Brew Pub',\n",
    "             'British','Burmese','Cafe','Cajun & Creole','Calabrian','Cambodian','Campania','Canadian','Cantonese','Caribbean','Catalan','Caucasian',\n",
    "             'Central American','Central Asian','Central European','Central-Italian','Chilean','Chinese','Colombian','Contemporary',\n",
    "             'Croatian','Cuban','Czech','Danish','Deli','Diner','Dining bars','Dutch','Eastern European','Egyptian','Ethiopian',\n",
    "             'European','Fast Food','Filipino','French','Fusion','Gastropub','German','Greek','Grill','Hawaiian','Healthy',\n",
    "             'Hong Kong','Imperial Chinese','Hungarian','Indian','Indigenous','Indonesian','International','Irish','Israeli','Italian','Jamaican',\n",
    "             'Japanese','Japanese Fusion','Japanese sweets parlour','Kappo','Korean','Latin','Lazio','Lebanese','Malaysian',\n",
    "             'Medicinal foods','Mediterranean','Mexican','Middle Eastern','Mongolian','Moroccan','Neapolitan','Nepali',\n",
    "             'New Zealand','Nigerian','Nonya','NorthEastern Chinese','Northern-Italian','Norwegian','Pakistani','Persian','Peruvian',\n",
    "             'Pizza','Polish','Portuguese','Pub','Romana','Romanian','Russian','Salvadoran','Scandinavian','Scottish','Seafood','Shanghai','Sicilian','Singaporean','Soups',\n",
    "             'South American','Southern-Italian','Southwestern','Spanish','Sri Lankan','Steakhouse','Street Food','Sushi',\n",
    "             'Swedish','Swiss','Szechuan','Taiwanese','Thai','Tibetan','Turkish','Tuscan','Venezuelan','Vietnamese','Wine Bar','Yunnan']"
   ]
  },
  {
   "cell_type": "code",
   "execution_count": 29,
   "id": "d7fb9411",
   "metadata": {},
   "outputs": [],
   "source": [
    "def find_keywords(text):\n",
    "    keywords = []\n",
    "    words = text\n",
    "    for w in words:\n",
    "        if w in Cuisine_all:\n",
    "            keywords.append(w)\n",
    "    return ', '.join(keywords)\n",
    "\n",
    "df['Cuisine'] = df['C'].apply(find_keywords)\n",
    "\n",
    "def remove_duplicates(s):\n",
    "    words = s.split(', ')\n",
    "    unique_words = set(words)\n",
    "    result = ', '.join(unique_words)\n",
    "    return result\n",
    "\n",
    "# Áp dụng hàm cho cột 'Cuisine'\n",
    "df['Cuisine'] = df['Cuisine'].apply(remove_duplicates)"
   ]
  },
  {
   "cell_type": "code",
   "execution_count": 30,
   "id": "9e7043b5",
   "metadata": {},
   "outputs": [],
   "source": [
    "df.drop(['C'], axis=1, inplace=True)"
   ]
  },
  {
   "cell_type": "code",
   "execution_count": 32,
   "id": "c3842ae4",
   "metadata": {},
   "outputs": [],
   "source": [
    "# Split Rate and get rate number\n",
    "try:\n",
    "    df['Rate']=df['Rate'].apply(lambda x: str(x).split()[0][1:])\n",
    "except:\n",
    "    pass\n",
    "\n",
    "try:\n",
    "    df['Rate']=df['Rate'].apply(lambda x: int(x))\n",
    "except:\n",
    "    pass\n",
    "    \n",
    "try:\n",
    "    df['Rate'] = df['Rate'].str.replace(',', '')\n",
    "    df['Rate']=df['Rate'].apply(lambda x: int(x))\n",
    "except:\n",
    "    pass\n",
    "\n",
    "# words = s.split()\n",
    "# num_string = words[0]\n",
    "# num = int(num_string[1:])"
   ]
  },
  {
   "cell_type": "code",
   "execution_count": 33,
   "id": "4f8f4303",
   "metadata": {},
   "outputs": [],
   "source": [
    "# Replace Date Visited and Number Of Reviews\n",
    "df['Date Visited']=df['Date Visited'].apply(lambda x: str(x).replace('Date of visit: ',''))\n",
    "df['Number Of Reviews']=df['Number Of Reviews'].apply(lambda x: str(x).replace(',',''))\n",
    "  \n",
    "df['Number Of Reviews'] = df['Number Of Reviews'].str.replace(' reviews', '').str.replace(' review', '')\n",
    "# df['Number Of Reviews'] = df['Number Of Reviews'].apply(lambda x: int(str(x).replace(' reviews', '').str.replace(' review', '')))\n",
    "# try:\n",
    "#     df['Number Of Reviews']=df['Number Of Reviews'].apply(lambda x: int(str(x).replace(' reviews','')))\n",
    "# except:\n",
    "#     df['Number Of Reviews']=df['Number Of Reviews'].apply(lambda x: int(str(x).replace(' review','')))"
   ]
  },
  {
   "cell_type": "code",
   "execution_count": 34,
   "id": "c636b828",
   "metadata": {
    "scrolled": false
   },
   "outputs": [],
   "source": [
    "# Convert string to datetime for Date Review and Date Visited\n",
    "df['Date Review']=df['Date Review'].apply(lambda x: pd.to_datetime(x, format='%B %d, %Y').date())"
   ]
  },
  {
   "cell_type": "code",
   "execution_count": 35,
   "id": "0c858181",
   "metadata": {},
   "outputs": [],
   "source": [
    "df['Date Review'] = df['Date Review'].astype(str)"
   ]
  },
  {
   "cell_type": "code",
   "execution_count": 36,
   "id": "e736999e",
   "metadata": {},
   "outputs": [
    {
     "name": "stdout",
     "output_type": "stream",
     "text": [
      "16       2020-02\n",
      "38       2019-09\n",
      "45       2019-08\n",
      "81       2018-10\n",
      "82       2018-11\n",
      "          ...   \n",
      "71777    2012-03\n",
      "71781    2012-08\n",
      "71792    2012-07\n",
      "71805    2012-04\n",
      "71810    2012-03\n",
      "Name: Date Visited, Length: 41265, dtype: object\n"
     ]
    }
   ],
   "source": [
    "def convert_date(date_string):\n",
    "    if len(date_string) > 7:\n",
    "        # Chuyển đổi chuỗi thành đối tượng thời gian\n",
    "        date_obj = datetime.strptime(date_string, '%B %Y')\n",
    "        # Trả về chuỗi ở định dạng 'YYYY-MM'\n",
    "        return date_obj.strftime('%Y-%m')\n",
    "    else:\n",
    "        # Trả về giá trị ban đầu nếu đã ở định dạng 'YYYY-MM'\n",
    "        return date_string\n",
    "\n",
    "# Apply the function to each element in the 'Date Visited' column\n",
    "df['Date Visited'] = df['Date Visited'].apply(convert_date)\n",
    "\n",
    "# Print the updated DataFrame\n",
    "print(df['Date Visited'])"
   ]
  },
  {
   "cell_type": "code",
   "execution_count": 37,
   "id": "208eff26",
   "metadata": {},
   "outputs": [
    {
     "name": "stdout",
     "output_type": "stream",
     "text": [
      "16       2020-02\n",
      "38       2019-09\n",
      "45       2019-08\n",
      "81       2018-10\n",
      "82       2018-11\n",
      "          ...   \n",
      "71777    2012-03\n",
      "71781    2012-08\n",
      "71792    2012-07\n",
      "71805    2012-04\n",
      "71810    2012-03\n",
      "Name: Date Visited, Length: 41265, dtype: object\n"
     ]
    }
   ],
   "source": [
    "# Fill null values in 'Date Visited' with values from 'Date Review'\n",
    "df.loc[df['Date Visited'].isnull(), 'Date Visited'] = df['Date Review'].str[:7]\n",
    "\n",
    "# Print the updated DataFrame\n",
    "print(df['Date Visited'])"
   ]
  },
  {
   "cell_type": "code",
   "execution_count": 41,
   "id": "69ed1fad",
   "metadata": {},
   "outputs": [],
   "source": [
    "df = df.drop({'Unnamed: 0'}, axis=1)"
   ]
  },
  {
   "cell_type": "code",
   "execution_count": 43,
   "id": "b3a571fb",
   "metadata": {},
   "outputs": [],
   "source": [
    "# df.to_excel('Australia_Cleaned.xlsx')"
   ]
  },
  {
   "cell_type": "code",
   "execution_count": null,
   "id": "6a6dd591",
   "metadata": {},
   "outputs": [],
   "source": []
  }
 ],
 "metadata": {
  "kernelspec": {
   "display_name": "Python 3",
   "language": "python",
   "name": "python3"
  },
  "language_info": {
   "codemirror_mode": {
    "name": "ipython",
    "version": 3
   },
   "file_extension": ".py",
   "mimetype": "text/x-python",
   "name": "python",
   "nbconvert_exporter": "python",
   "pygments_lexer": "ipython3",
   "version": "3.8.2"
  }
 },
 "nbformat": 4,
 "nbformat_minor": 5
}
